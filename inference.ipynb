{
 "cells": [
  {
   "cell_type": "code",
   "execution_count": 6,
   "id": "3b44ebeb",
   "metadata": {},
   "outputs": [
    {
     "name": "stdout",
     "output_type": "stream",
     "text": [
      "YOLOv8n-cls summary: 56 layers, 1,445,974 parameters, 0 gradients, 3.4 GFLOPs\n"
     ]
    },
    {
     "data": {
      "text/plain": [
       "(56, 1445974, 0, 3.3660928)"
      ]
     },
     "execution_count": 6,
     "metadata": {},
     "output_type": "execute_result"
    }
   ],
   "source": [
    "import cv2\n",
    "import numpy as np\n",
    "from ultralytics import YOLO\n",
    "import mediapipe as mp\n",
    "import time\n",
    "\n",
    "\n",
    "# Load mô hình YOLOv8n đã huấn luyện\n",
    "model = YOLO(\"best.pt\")\n",
    "model.info(verbose=True)\n"
   ]
  },
  {
   "cell_type": "code",
   "execution_count": 7,
   "id": "6332ee07",
   "metadata": {},
   "outputs": [],
   "source": [
    "class_labels = list(model.names.values())\n",
    "\n",
    "# Khởi tạo MediaPipe face detector\n",
    "mp_face_detection = mp.solutions.face_detection\n",
    "face_detector = mp_face_detection.FaceDetection(model_selection=0, min_detection_confidence=0.5)\n",
    "\n",
    "# Hàm mở rộng bounding box\n",
    "def apply_offset(x, y, w, h, scale=1.2, frame_shape=(480, 640)):\n",
    "    cx = x + w // 2\n",
    "    cy = y + h // 2\n",
    "    new_w = int(w * scale)\n",
    "    new_h = int(h * scale)\n",
    "    x1 = max(0, cx - new_w // 2)\n",
    "    y1 = max(0, cy - new_h // 2)\n",
    "    x2 = min(frame_shape[1], cx + new_w // 2)\n",
    "    y2 = min(frame_shape[0], cy + new_h // 2)\n",
    "    return x1, y1, x2 - x1, y2 - y1\n",
    "\n",
    "# Webcam\n",
    "cap = cv2.VideoCapture(0)\n",
    "prev_time = 0\n",
    "\n",
    "if not cap.isOpened():\n",
    "    print(\"❌ Không thể mở webcam.\")\n",
    "    exit()\n",
    "\n",
    "while True:\n",
    "    ret, frame = cap.read()\n",
    "    if not ret:\n",
    "        break\n",
    "\n",
    "    # Detect face\n",
    "    rgb_frame = cv2.cvtColor(frame, cv2.COLOR_BGR2RGB)\n",
    "    results = face_detector.process(rgb_frame)\n",
    "\n",
    "    if results.detections:\n",
    "        for det in results.detections:\n",
    "            bbox = det.location_data.relative_bounding_box\n",
    "            ih, iw, _ = frame.shape\n",
    "            x = int(bbox.xmin * iw)\n",
    "            y = int(bbox.ymin * ih)\n",
    "            w = int(bbox.width * iw)\n",
    "            h = int(bbox.height * ih)\n",
    "\n",
    "            # Offset 1.2x\n",
    "            x, y, w, h = apply_offset(x, y, w, h, scale=1.2, frame_shape=frame.shape)\n",
    "            roi = frame[y:y+h, x:x+w]\n",
    "            if roi.shape[0] == 0 or roi.shape[1] == 0:\n",
    "                continue\n",
    "\n",
    "            # Xử lý ảnh: grayscale → resize → RGB 3 kênh\n",
    "            gray = cv2.cvtColor(roi, cv2.COLOR_BGR2GRAY)\n",
    "            gray = cv2.resize(gray, (224, 224))\n",
    "            rgb = np.stack([gray] * 3, axis=-1)\n",
    "\n",
    "            # Dự đoán\n",
    "            result = model(rgb, verbose=False)\n",
    "            pred_idx = result[0].probs.top1\n",
    "            pred_label = class_labels[pred_idx]\n",
    "            conf = result[0].probs.top1conf.item()\n",
    "\n",
    "            # Vẽ kết quả\n",
    "            # Màu sắc\n",
    "            if \"no_mask\" in pred_label:\n",
    "                color = (0, 0, 255)     # đỏ\n",
    "            elif pred_label in [\"mc\", \"mmc\"]:\n",
    "                color = (0, 165, 255)   # cam\n",
    "            else:\n",
    "                color = (0, 255, 0)     # xanh\n",
    "            cv2.rectangle(frame, (x, y), (x + w, y + h), color, 2)\n",
    "            cv2.putText(frame, f\"{pred_label} ({conf*100:.1f}%)\", (x, y - 10),\n",
    "                        cv2.FONT_HERSHEY_SIMPLEX, 0.7, color, 2)\n",
    "\n",
    "    # Tính FPS\n",
    "    curr_time = time.time()\n",
    "    fps = 1 / (curr_time - prev_time) if prev_time > 0 else 0\n",
    "    prev_time = curr_time\n",
    "\n",
    "    # Hiển thị FPS lên frame\n",
    "    cv2.putText(frame, f\"FPS: {fps:.1f}\", (10, 30),\n",
    "                cv2.FONT_HERSHEY_SIMPLEX, 0.8, (255, 255, 0), 2)\n",
    "    cv2.imshow(\"YOLOv8n Mask Detection Realtime\", frame)\n",
    "\n",
    "    if cv2.waitKey(1) & 0xFF == ord(\"q\"):\n",
    "        break\n",
    "\n",
    "cap.release()\n",
    "cv2.destroyAllWindows()\n"
   ]
  }
 ],
 "metadata": {
  "kernelspec": {
   "display_name": "Python 3",
   "language": "python",
   "name": "python3"
  },
  "language_info": {
   "codemirror_mode": {
    "name": "ipython",
    "version": 3
   },
   "file_extension": ".py",
   "mimetype": "text/x-python",
   "name": "python",
   "nbconvert_exporter": "python",
   "pygments_lexer": "ipython3",
   "version": "3.11.11"
  }
 },
 "nbformat": 4,
 "nbformat_minor": 5
}
